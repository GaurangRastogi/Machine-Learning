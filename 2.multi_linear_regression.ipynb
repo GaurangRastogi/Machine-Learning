{
 "cells": [
  {
   "cell_type": "code",
   "execution_count": 114,
   "metadata": {},
   "outputs": [],
   "source": [
    "import numpy as np\n",
    "import pandas as pd\n",
    "import matplotlib.pyplot as plt\n",
    "import sklearn\n",
    "from sklearn.datasets import make_regression\n",
    "from sklearn.metrics import mean_squared_error as mse"
   ]
  },
  {
   "cell_type": "code",
   "execution_count": 115,
   "metadata": {},
   "outputs": [
    {
     "data": {
      "text/html": [
       "<div>\n",
       "<style scoped>\n",
       "    .dataframe tbody tr th:only-of-type {\n",
       "        vertical-align: middle;\n",
       "    }\n",
       "\n",
       "    .dataframe tbody tr th {\n",
       "        vertical-align: top;\n",
       "    }\n",
       "\n",
       "    .dataframe thead th {\n",
       "        text-align: right;\n",
       "    }\n",
       "</style>\n",
       "<table border=\"1\" class=\"dataframe\">\n",
       "  <thead>\n",
       "    <tr style=\"text-align: right;\">\n",
       "      <th></th>\n",
       "      <th>AreaCode</th>\n",
       "      <th>INT_SQFT</th>\n",
       "      <th>DIST_MAINROAD</th>\n",
       "      <th>N_BEDROOM</th>\n",
       "      <th>N_BATHROOM</th>\n",
       "      <th>OTHER_ROOMS</th>\n",
       "      <th>PARK_FACILITY</th>\n",
       "      <th>BUILDINGTYPE</th>\n",
       "      <th>UTILITY_AVAIL</th>\n",
       "      <th>STREET</th>\n",
       "      <th>MZZONE</th>\n",
       "      <th>QS_ROOMS</th>\n",
       "      <th>QS_BATHROOM</th>\n",
       "      <th>QS_BEDROOM</th>\n",
       "      <th>REG_FEE</th>\n",
       "      <th>COMMIS</th>\n",
       "      <th>SALES_PRICE</th>\n",
       "    </tr>\n",
       "  </thead>\n",
       "  <tbody>\n",
       "    <tr>\n",
       "      <th>0</th>\n",
       "      <td>4</td>\n",
       "      <td>1004</td>\n",
       "      <td>131</td>\n",
       "      <td>1</td>\n",
       "      <td>1</td>\n",
       "      <td>1</td>\n",
       "      <td>1</td>\n",
       "      <td>1</td>\n",
       "      <td>1</td>\n",
       "      <td>2</td>\n",
       "      <td>1</td>\n",
       "      <td>4.0</td>\n",
       "      <td>3.9</td>\n",
       "      <td>4.9</td>\n",
       "      <td>380000</td>\n",
       "      <td>144400</td>\n",
       "      <td>7600000</td>\n",
       "    </tr>\n",
       "    <tr>\n",
       "      <th>1</th>\n",
       "      <td>2</td>\n",
       "      <td>1986</td>\n",
       "      <td>26</td>\n",
       "      <td>2</td>\n",
       "      <td>1</td>\n",
       "      <td>2</td>\n",
       "      <td>0</td>\n",
       "      <td>1</td>\n",
       "      <td>1</td>\n",
       "      <td>1</td>\n",
       "      <td>4</td>\n",
       "      <td>4.9</td>\n",
       "      <td>4.2</td>\n",
       "      <td>2.5</td>\n",
       "      <td>760122</td>\n",
       "      <td>304049</td>\n",
       "      <td>21717770</td>\n",
       "    </tr>\n",
       "    <tr>\n",
       "      <th>2</th>\n",
       "      <td>1</td>\n",
       "      <td>909</td>\n",
       "      <td>70</td>\n",
       "      <td>1</td>\n",
       "      <td>1</td>\n",
       "      <td>1</td>\n",
       "      <td>1</td>\n",
       "      <td>1</td>\n",
       "      <td>2</td>\n",
       "      <td>1</td>\n",
       "      <td>5</td>\n",
       "      <td>4.1</td>\n",
       "      <td>3.8</td>\n",
       "      <td>2.2</td>\n",
       "      <td>421094</td>\n",
       "      <td>92114</td>\n",
       "      <td>13159200</td>\n",
       "    </tr>\n",
       "    <tr>\n",
       "      <th>3</th>\n",
       "      <td>7</td>\n",
       "      <td>1855</td>\n",
       "      <td>14</td>\n",
       "      <td>3</td>\n",
       "      <td>2</td>\n",
       "      <td>0</td>\n",
       "      <td>0</td>\n",
       "      <td>3</td>\n",
       "      <td>3</td>\n",
       "      <td>2</td>\n",
       "      <td>3</td>\n",
       "      <td>4.7</td>\n",
       "      <td>3.9</td>\n",
       "      <td>3.6</td>\n",
       "      <td>356321</td>\n",
       "      <td>77042</td>\n",
       "      <td>9630290</td>\n",
       "    </tr>\n",
       "    <tr>\n",
       "      <th>4</th>\n",
       "      <td>4</td>\n",
       "      <td>1226</td>\n",
       "      <td>84</td>\n",
       "      <td>1</td>\n",
       "      <td>1</td>\n",
       "      <td>1</td>\n",
       "      <td>1</td>\n",
       "      <td>3</td>\n",
       "      <td>1</td>\n",
       "      <td>1</td>\n",
       "      <td>2</td>\n",
       "      <td>3.0</td>\n",
       "      <td>2.5</td>\n",
       "      <td>4.1</td>\n",
       "      <td>237000</td>\n",
       "      <td>74063</td>\n",
       "      <td>7406250</td>\n",
       "    </tr>\n",
       "  </tbody>\n",
       "</table>\n",
       "</div>"
      ],
      "text/plain": [
       "   AreaCode  INT_SQFT  DIST_MAINROAD  N_BEDROOM  N_BATHROOM  OTHER_ROOMS  \\\n",
       "0         4      1004            131          1           1            1   \n",
       "1         2      1986             26          2           1            2   \n",
       "2         1       909             70          1           1            1   \n",
       "3         7      1855             14          3           2            0   \n",
       "4         4      1226             84          1           1            1   \n",
       "\n",
       "   PARK_FACILITY  BUILDINGTYPE  UTILITY_AVAIL  STREET  MZZONE  QS_ROOMS  \\\n",
       "0              1             1              1       2       1       4.0   \n",
       "1              0             1              1       1       4       4.9   \n",
       "2              1             1              2       1       5       4.1   \n",
       "3              0             3              3       2       3       4.7   \n",
       "4              1             3              1       1       2       3.0   \n",
       "\n",
       "   QS_BATHROOM  QS_BEDROOM  REG_FEE  COMMIS  SALES_PRICE  \n",
       "0          3.9         4.9   380000  144400      7600000  \n",
       "1          4.2         2.5   760122  304049     21717770  \n",
       "2          3.8         2.2   421094   92114     13159200  \n",
       "3          3.9         3.6   356321   77042      9630290  \n",
       "4          2.5         4.1   237000   74063      7406250  "
      ]
     },
     "execution_count": 115,
     "metadata": {},
     "output_type": "execute_result"
    }
   ],
   "source": [
    "raw_data=pd.read_csv(\"C:\\\\Users\\\\GAURANG RASTOGI\\\\OneDrive\\\\Documents\\\\VS Code\\\\Python_Jupyter\\\\ML_AN\\\\Linear Dataset\\\\multi_linear_dataset.csv\")\n",
    "raw_data.head()"
   ]
  },
  {
   "cell_type": "code",
   "execution_count": 116,
   "metadata": {},
   "outputs": [],
   "source": [
    "#normalisation of data_ x contain normalised data\n",
    "data=raw_data.mean()\n",
    "max_val=raw_data.max()\n",
    "min_val=raw_data.min()\n",
    "n_data=(raw_data-data)/(max_val-min_val) #Normalise"
   ]
  },
  {
   "cell_type": "code",
   "execution_count": 117,
   "metadata": {},
   "outputs": [],
   "source": [
    "#separte the predicting attribute into Y for model training \n",
    "y = n_data['SALES_PRICE']\n",
    "#separate the other attributes from the predicting attribute\n",
    "l_x= n_data.drop('SALES_PRICE',axis=1)\n",
    "list=[]\n",
    "for i in range(1,6000):\n",
    "    list.append(1)\n",
    "x=l_x.assign( Bias=list)"
   ]
  },
  {
   "cell_type": "code",
   "execution_count": 118,
   "metadata": {},
   "outputs": [
    {
     "name": "stdout",
     "output_type": "stream",
     "text": [
      "(5999, 17) (1, 5999) <class 'numpy.ndarray'> <class 'numpy.ndarray'>\n"
     ]
    }
   ],
   "source": [
    "\n",
    "sample_x=np.array(x)\n",
    "sample_y=np.array(y)[np.newaxis]\n",
    "print(sample_x.shape,sample_y.shape,type(sample_x),type(sample_y))"
   ]
  },
  {
   "cell_type": "code",
   "execution_count": 119,
   "metadata": {},
   "outputs": [
    {
     "name": "stdout",
     "output_type": "stream",
     "text": [
      "[[-2.71386325e-02  1.47213273e-01  3.95697476e-03  8.03406523e-02\n",
      "   3.83338847e-02  1.80649116e-01  3.85804188e-02 -1.45485724e-01\n",
      "  -8.24366396e-03  1.90485384e-02  1.31906141e-01  6.46989751e-03\n",
      "   5.04659499e-05  4.69898839e-03  1.80986525e-01  1.05254978e-01\n",
      "   1.77924390e-17]]\n"
     ]
    },
    {
     "data": {
      "image/png": "[encoded data removed]",
      "text/plain": [
       "<Figure size 432x288 with 1 Axes>"
      ]
     },
     "metadata": {
      "needs_background": "light"
     },
     "output_type": "display_data"
    }
   ],
   "source": [
    "#Gradient Descent\n",
    "#this is vectorisation,no need to do loops and all , matrix multiplication will take care\n",
    "def gradientDescent(X,Y,learn_rate,iters):\n",
    "    theta=np.zeros([1,X.shape[1]])\n",
    "    cost=[]\n",
    "    var1=[]\n",
    "    for i in range(1,iters):\n",
    "        l=np.dot(theta,X.T)\n",
    "        m=l-Y\n",
    "        cost.append(mse(l,Y))\n",
    "        var1.append(i)\n",
    "        p=(m*X.T).T\n",
    "        z=np.zeros([1,X.shape[1]])\n",
    "        for i in range(0,5999):\n",
    "            z+=p[i]\n",
    "        z=(z*learn_rate)/(X.shape[0])\n",
    "        theta=theta-z\n",
    "    plt.plot(var1,cost)\n",
    "    return theta\n",
    "learn_rate=0.01\n",
    "iters=2000\n",
    "theta=gradientDescent(sample_x,sample_y,learn_rate,iters)\n",
    "print(theta)"
   ]
  },
  {
   "cell_type": "code",
   "execution_count": 120,
   "metadata": {},
   "outputs": [
    {
     "name": "stdout",
     "output_type": "stream",
     "text": [
      "0.0050685950918964145\n"
     ]
    }
   ],
   "source": [
    "import math\n",
    "predicted=np.dot(theta,(sample_x.T))\n",
    "# mn=raw_data.SALES_PRICE.mean()  \n",
    "# max_val=raw_data.SALES_PRICE.max()\n",
    "# min_val=raw_data.SALES_PRICE.min()\n",
    "# a=(predicted)*(max_val-min_val)+mn\n",
    "# b=(sample_y)*(max_val-min_val)+mn\n",
    "# error=np.square((predicted-sample_y))\n",
    "# sum_=np.sum(error)\n",
    "# print(math.sqrt(sum_/sample_x.shape[0]))\n",
    "print(mse(predicted,sample_y))"
   ]
  }
 ],
 "metadata": {
  "interpreter": {
   "hash": "20643ba39cc192cecd775d36cbcb290681c3cfe28e501fd357f2d90d955dc5c4"
  },
  "kernelspec": {
   "display_name": "Python 3.10.4 64-bit",
   "language": "python",
   "name": "python3"
  },
  "language_info": {
   "codemirror_mode": {
    "name": "ipython",
    "version": 3
   },
   "file_extension": ".py",
   "mimetype": "text/x-python",
   "name": "python",
   "nbconvert_exporter": "python",
   "pygments_lexer": "ipython3",
   "version": "3.10.4"
  },
  "orig_nbformat": 4
 },
 "nbformat": 4,
 "nbformat_minor": 2
}
