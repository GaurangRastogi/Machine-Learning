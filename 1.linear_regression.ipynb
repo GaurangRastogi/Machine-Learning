{
 "cells": [
  {
   "cell_type": "code",
   "execution_count": 13,
   "metadata": {},
   "outputs": [],
   "source": [
    "import numpy as np\n",
    "import pandas as pd\n",
    "import matplotlib.pyplot as plt\n",
    "import sklearn\n",
    "from sklearn.datasets import make_regression"
   ]
  },
  {
   "cell_type": "code",
   "execution_count": 14,
   "metadata": {},
   "outputs": [],
   "source": [
    "raw_data=pd.read_csv(\"C:\\\\Users\\\\GAURANG RASTOGI\\\\OneDrive\\\\Documents\\\\VS Code\\\\Python_Jupyter\\\\ML_AN\\\\Linear Dataset\\\\linear_dataset.csv\")"
   ]
  },
  {
   "cell_type": "code",
   "execution_count": 15,
   "metadata": {},
   "outputs": [],
   "source": [
    "raw_data.head()\n",
    "raw_data.describe()\n",
    "data=np.matrix(raw_data.iloc[:,0:1])"
   ]
  },
  {
   "cell_type": "code",
   "execution_count": 16,
   "metadata": {},
   "outputs": [
    {
     "name": "stdout",
     "output_type": "stream",
     "text": [
      "2220.3 502.69\n"
     ]
    },
    {
     "data": {
      "text/plain": [
       "matrix([[-0.1823988 ,  1.        ],\n",
       "        [-0.18183988,  1.        ],\n",
       "        [-0.18078609,  1.        ],\n",
       "        [-0.18050663,  1.        ],\n",
       "        [-0.17987785,  1.        ],\n",
       "        [-0.17769459,  1.        ],\n",
       "        [-0.17639045,  1.        ],\n",
       "        [-0.173526  ,  1.        ],\n",
       "        [-0.1729962 ,  1.        ],\n",
       "        [-0.16927009,  1.        ],\n",
       "        [-0.16618441,  1.        ],\n",
       "        [-0.1660505 ,  1.        ],\n",
       "        [-0.1618761 ,  1.        ],\n",
       "        [-0.16027503,  1.        ],\n",
       "        [-0.15852842,  1.        ],\n",
       "        [-0.15543109,  1.        ],\n",
       "        [-0.15488964,  1.        ],\n",
       "        [-0.15366701,  1.        ],\n",
       "        [-0.153242  ,  1.        ],\n",
       "        [-0.15243274,  1.        ],\n",
       "        [-0.1510762 ,  1.        ],\n",
       "        [-0.14866588,  1.        ],\n",
       "        [-0.14672132,  1.        ],\n",
       "        [-0.1466631 ,  1.        ],\n",
       "        [-0.14276233,  1.        ],\n",
       "        [-0.14258767,  1.        ],\n",
       "        [-0.14151059,  1.        ],\n",
       "        [-0.14123113,  1.        ],\n",
       "        [-0.13891978,  1.        ],\n",
       "        [-0.13730707,  1.        ],\n",
       "        [-0.133907  ,  1.        ],\n",
       "        [-0.1332724 ,  1.        ],\n",
       "        [-0.13204394,  1.        ],\n",
       "        [-0.12562805,  1.        ],\n",
       "        [-0.12538353,  1.        ],\n",
       "        [-0.11933442,  1.        ],\n",
       "        [-0.11473501,  1.        ],\n",
       "        [-0.10978045,  1.        ],\n",
       "        [-0.10675881,  1.        ],\n",
       "        [-0.10636873,  1.        ],\n",
       "        [-0.10516939,  1.        ],\n",
       "        [-0.10503549,  1.        ],\n",
       "        [-0.10484918,  1.        ],\n",
       "        [-0.10447075,  1.        ],\n",
       "        [-0.100733  ,  1.        ],\n",
       "        [-0.09743772,  1.        ],\n",
       "        [-0.09570857,  1.        ],\n",
       "        [-0.09384552,  1.        ],\n",
       "        [-0.09142937,  1.        ],\n",
       "        [-0.07436496,  1.        ],\n",
       "        [-0.06733775,  1.        ],\n",
       "        [-0.06340205,  1.        ],\n",
       "        [-0.06210374,  1.        ],\n",
       "        [-0.05482036,  1.        ],\n",
       "        [-0.05437206,  1.        ],\n",
       "        [-0.04804932,  1.        ],\n",
       "        [-0.04284442,  1.        ],\n",
       "        [-0.03978784,  1.        ],\n",
       "        [-0.03616653,  1.        ],\n",
       "        [-0.03607338,  1.        ],\n",
       "        [-0.03241132,  1.        ],\n",
       "        [-0.03046093,  1.        ],\n",
       "        [-0.01950967,  1.        ],\n",
       "        [-0.01318111,  1.        ],\n",
       "        [-0.00372029,  1.        ],\n",
       "        [ 0.00298671,  1.        ],\n",
       "        [ 0.00777825,  1.        ],\n",
       "        [ 0.00787722,  1.        ],\n",
       "        [ 0.01298898,  1.        ],\n",
       "        [ 0.0144736 ,  1.        ],\n",
       "        [ 0.02080798,  1.        ],\n",
       "        [ 0.02088949,  1.        ],\n",
       "        [ 0.02435361,  1.        ],\n",
       "        [ 0.03875152,  1.        ],\n",
       "        [ 0.05940813,  1.        ],\n",
       "        [ 0.06336712,  1.        ],\n",
       "        [ 0.06697679,  1.        ],\n",
       "        [ 0.0753256 ,  1.        ],\n",
       "        [ 0.09367086,  1.        ],\n",
       "        [ 0.11505522,  1.        ],\n",
       "        [ 0.12087727,  1.        ],\n",
       "        [ 0.12308964,  1.        ],\n",
       "        [ 0.1628542 ,  1.        ],\n",
       "        [ 0.20611198,  1.        ],\n",
       "        [ 0.20657774,  1.        ],\n",
       "        [ 0.27178463,  1.        ],\n",
       "        [ 0.27225039,  1.        ],\n",
       "        [ 0.29204534,  1.        ],\n",
       "        [ 0.3047374 ,  1.        ],\n",
       "        [ 0.34956713,  1.        ],\n",
       "        [ 0.39288313,  1.        ],\n",
       "        [ 0.62791903,  1.        ],\n",
       "        [ 0.62873411,  1.        ],\n",
       "        [ 0.7050611 ,  1.        ],\n",
       "        [ 0.70919475,  1.        ],\n",
       "        [ 0.76380552,  1.        ],\n",
       "        [ 0.8176012 ,  1.        ]])"
      ]
     },
     "execution_count": 16,
     "metadata": {},
     "output_type": "execute_result"
    }
   ],
   "source": [
    "sum_sum=data.sum()\n",
    "avg=(sum_sum/data.size)\n",
    "mean=np.full((data.size,1),avg)\n",
    "result=np.subtract(data,mean)\n",
    "print(np.max(data),np.min(data))\n",
    "result=result/(np.max(data)-np.min(data))\n",
    "result=np.c_[ result, np.ones(result.size) ]\n",
    "result"
   ]
  },
  {
   "cell_type": "code",
   "execution_count": 17,
   "metadata": {},
   "outputs": [
    {
     "data": {
      "image/png": "[encoded data removed]",
      "text/plain": [
       "<Figure size 432x288 with 1 Axes>"
      ]
     },
     "metadata": {
      "needs_background": "light"
     },
     "output_type": "display_data"
    }
   ],
   "source": [
    "y=raw_data.iloc[:,1:2]\n",
    "plt.plot(result,y,\"ob\")\n",
    "Y_output=np.matrix(y)"
   ]
  },
  {
   "cell_type": "code",
   "execution_count": 18,
   "metadata": {},
   "outputs": [
    {
     "data": {
      "text/plain": [
       "matrix([[78.72724472, 19.90824742]])"
      ]
     },
     "execution_count": 18,
     "metadata": {},
     "output_type": "execute_result"
    }
   ],
   "source": [
    "learn_rate=0.001\n",
    "iters=150000\n",
    "theta=np.array([[0,0]])\n",
    "def gradientDescent(X,Y,learn_rate,iters):\n",
    "    theta=np.array([[0,0]])\n",
    "    for i in range(1,iters):\n",
    "        z=((theta*(X.T))-Y.T)*X\n",
    "        #this is vectorisation,no need to do loops and all , matrix multiplication will take care\n",
    "        z=(z*learn_rate)/(data.shape[0])\n",
    "        theta=theta-z\n",
    "    return theta\n",
    "theta=gradientDescent(result,Y_output,learn_rate,iters)\n",
    "theta\n"
   ]
  },
  {
   "cell_type": "code",
   "execution_count": 20,
   "metadata": {},
   "outputs": [
    {
     "name": "stdout",
     "output_type": "stream",
     "text": [
      "-0.40345596497458674\n",
      "70.69514354084875\n"
     ]
    }
   ],
   "source": [
    "#theta=theta-(((learn_rate/data.size)*((theta)*X.T-Y)).sum()*X).T\n",
    "size_=int(input(\"House Size\"))\n",
    "size_=((size_-avg)/(np.max(data)-np.min(data)))\n",
    "print(size_)\n",
    "print(theta.item(0,0)+theta.item(0,1)*size_)"
   ]
  },
  {
   "cell_type": "code",
   "execution_count": 21,
   "metadata": {},
   "outputs": [
    {
     "name": "stdout",
     "output_type": "stream",
     "text": [
      "0.8383994760487916\n"
     ]
    }
   ],
   "source": [
    "import math\n",
    "predicted=theta*(result.T)\n",
    "error=np.square((predicted-Y_output.T))\n",
    "sum_=np.sum(error)\n",
    "print(math.sqrt(sum_/data.size))"
   ]
  }
 ],
 "metadata": {
  "interpreter": {
   "hash": "20643ba39cc192cecd775d36cbcb290681c3cfe28e501fd357f2d90d955dc5c4"
  },
  "kernelspec": {
   "display_name": "Python 3.10.4 64-bit",
   "language": "python",
   "name": "python3"
  },
  "language_info": {
   "codemirror_mode": {
    "name": "ipython",
    "version": 3
   },
   "file_extension": ".py",
   "mimetype": "text/x-python",
   "name": "python",
   "nbconvert_exporter": "python",
   "pygments_lexer": "ipython3",
   "version": "3.10.4"
  },
  "orig_nbformat": 4
 },
 "nbformat": 4,
 "nbformat_minor": 2
}
