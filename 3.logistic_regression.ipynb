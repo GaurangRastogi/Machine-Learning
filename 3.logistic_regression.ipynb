{
 "cells": [
  {
   "cell_type": "code",
   "execution_count": 48,
   "metadata": {},
   "outputs": [],
   "source": [
    "import pandas as pd\n",
    "import numpy as np\n",
    "import matplotlib.pylab as plt\n",
    "from sklearn.datasets import make_classification\n",
    "from sklearn.model_selection import train_test_split\n",
    "from matplotlib import pyplot as plt\n",
    "from sklearn.metrics import accuracy_score as ac\n",
    "from sklearn.metrics import mean_squared_error as mse"
   ]
  },
  {
   "cell_type": "code",
   "execution_count": 49,
   "metadata": {},
   "outputs": [
    {
     "name": "stdout",
     "output_type": "stream",
     "text": [
      "(10000, 3)\n"
     ]
    }
   ],
   "source": [
    "X,Y=make_classification(n_samples=10000,n_features=3,n_redundant=0,n_informative=3,random_state=42)\n",
    "print(X.shape)"
   ]
  },
  {
   "cell_type": "code",
   "execution_count": 50,
   "metadata": {},
   "outputs": [],
   "source": [
    "l=[]\n",
    "for i in range(0,X.shape[0]):\n",
    "    l.append([1])\n",
    "fin_X=np.concatenate([X,l], axis=1)"
   ]
  },
  {
   "cell_type": "code",
   "execution_count": 51,
   "metadata": {},
   "outputs": [
    {
     "data": {
      "image/png": "[encoded data removed]",
      "text/plain": [
       "<Figure size 432x288 with 1 Axes>"
      ]
     },
     "metadata": {
      "needs_background": "light"
     },
     "output_type": "display_data"
    }
   ],
   "source": [
    "def gradientDescent(X,Y,learn_rate,iters):\n",
    "    theta=np.zeros([1,X.shape[1]])\n",
    "    var1=[]\n",
    "    cost=[]\n",
    "    for i in range(1,iters):\n",
    "        l=1/(1+np.exp(-1*np.dot(theta,X.T)))\n",
    "        m=l-Y\n",
    "        cost.append(mse(l,Y))\n",
    "        var1.append(i)\n",
    "        p=(m*X.T).T\n",
    "        z=np.zeros([1,X.shape[1]])\n",
    "        for i in range(0,5999):\n",
    "            z+=p[i]\n",
    "        z=(z*learn_rate)/(X.shape[0])\n",
    "        theta=theta-z\n",
    "    plt.plot(var1,cost)\n",
    "    return theta\n",
    "learn_rate=0.5\n",
    "iters=200\n",
    "theta=gradientDescent(fin_X,Y[np.newaxis],learn_rate,iters)"
   ]
  },
  {
   "cell_type": "code",
   "execution_count": 52,
   "metadata": {},
   "outputs": [
    {
     "name": "stdout",
     "output_type": "stream",
     "text": [
      "0.09344367779371268\n"
     ]
    }
   ],
   "source": [
    "import math\n",
    "predicted=1/(1+np.exp(-1*np.dot(theta,fin_X.T)))\n",
    "print(mse(predicted,Y[np.newaxis]))"
   ]
  }
 ],
 "metadata": {
  "interpreter": {
   "hash": "20643ba39cc192cecd775d36cbcb290681c3cfe28e501fd357f2d90d955dc5c4"
  },
  "kernelspec": {
   "display_name": "Python 3.10.4 64-bit",
   "language": "python",
   "name": "python3"
  },
  "language_info": {
   "codemirror_mode": {
    "name": "ipython",
    "version": 3
   },
   "file_extension": ".py",
   "mimetype": "text/x-python",
   "name": "python",
   "nbconvert_exporter": "python",
   "pygments_lexer": "ipython3",
   "version": "3.10.4"
  },
  "orig_nbformat": 4
 },
 "nbformat": 4,
 "nbformat_minor": 2
}
